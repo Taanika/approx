{
 "cells": [
  {
   "cell_type": "markdown",
   "metadata": {},
   "source": [
    "Подключим основные библиотеки для расчётов и построения графиков."
   ]
  },
  {
   "cell_type": "code",
   "execution_count": 1,
   "metadata": {
    "collapsed": true
   },
   "outputs": [],
   "source": [
    "import numpy as np\n",
    "from math import sin, cos, sqrt, acosh, cosh, sinh\n",
    "import matplotlib\n",
    "import matplotlib.lines as m_lines\n",
    "import matplotlib.pyplot as plt\n",
    "from matplotlib.axes import Axes\n",
    "from typing import Iterable, Callable, Tuple, Any, List\n",
    "from scipy.special import binom\n",
    "from numpy.polynomial.polynomial import polyval"
   ]
  },
  {
   "cell_type": "markdown",
   "metadata": {},
   "source": [
    "Функции вычисления границ графиков и их отрисовки:"
   ]
  },
  {
   "cell_type": "code",
   "execution_count": 2,
   "metadata": {
    "collapsed": true
   },
   "outputs": [],
   "source": [
    "def bounding_box(pts) -> Tuple[Tuple[float, float], Tuple[float, float]]:\n",
    "    x_min = min(pts[0, :])\n",
    "    y_min = min(pts[1, :])\n",
    "    x_max = max(pts[0, :])\n",
    "    y_max = max(pts[1, :])\n",
    "    return (x_min, y_min), (x_max, y_max)\n",
    "\n",
    "def graph_debug(_pts, title):\n",
    "    fig, ax = plt.subplots()\n",
    "    fig.canvas.set_window_title(title)\n",
    "\n",
    "    # ax.set_aspect('equal')\n",
    "\n",
    "    if len(_pts.shape) == 1:\n",
    "        n = _pts.shape[0]\n",
    "        pts = np.array([np.arange(n), _pts])\n",
    "    else:\n",
    "        n = _pts.shape[0]\n",
    "        pts = _pts\n",
    "    (x_min, y_min), (x_max, y_max) = bounding_box(pts)\n",
    "\n",
    "    percent_left = 0.1\n",
    "    x_inc = (x_max - x_min) * percent_left\n",
    "    y_inc = (y_max - y_min) * percent_left\n",
    "\n",
    "    ax.set_xlim(x_min - x_inc, x_max + x_inc)\n",
    "    ax.set_ylim(y_min - y_inc, y_max + y_inc)\n",
    "\n",
    "    ax.grid(True, which='both')\n",
    "    plt.plot(pts[0, :], pts[1, :])\n",
    "\n",
    "    plt.show()"
   ]
  },
  {
   "cell_type": "markdown",
   "metadata": {},
   "source": [
    "Функция генерации выборки:"
   ]
  },
  {
   "cell_type": "code",
   "execution_count": 3,
   "metadata": {
    "collapsed": true
   },
   "outputs": [],
   "source": [
    "def generate(n, a = 0, b = 1):\n",
    "    r = np.random.rand(n)\n",
    "    return r*(b - a) + a"
   ]
  },
  {
   "cell_type": "markdown",
   "metadata": {},
   "source": [
    "Функция, представляющая основной алгоритм:"
   ]
  },
  {
   "cell_type": "code",
   "execution_count": 4,
   "metadata": {
    "collapsed": true
   },
   "outputs": [],
   "source": [
    "def local_model_algo(x, eps = 5):\n",
    "    n = x.shape[0]\n",
    "    y = [(0, x[0])]\n",
    "\n",
    "    st = 0\n",
    "    i = 0\n",
    "    while i < (n - 1):\n",
    "        s = ((x[st + 1] - x[st])/x[st]) ** 2\n",
    "        m = ((x[st + 1] - x[st])/x[st])\n",
    "        i = st + 1\n",
    "\n",
    "        while i < (n - 1):\n",
    "            s = (i * s + x[i+1]**2)/(i + 1)\n",
    "            m = (i * m + (x[i + 1] - x[i]) / x[i])/(i + 1)\n",
    "            t = np.sqrt(s - m**2)\n",
    "            i += 1\n",
    "            if t >= eps:\n",
    "                break\n",
    "\n",
    "        alpha = m\n",
    "        st = i\n",
    "        y.append((i - 1, alpha * x[i - 1]))\n",
    "\n",
    "    x_new = np.ndarray((2, len(y)))\n",
    "    for j, tp in enumerate(y):\n",
    "        x_new[:, j] = y[j]\n",
    "\n",
    "\n",
    "    return x_new"
   ]
  },
  {
   "cell_type": "markdown",
   "metadata": {},
   "source": [
    "Запускаем:"
   ]
  },
  {
   "cell_type": "code",
   "execution_count": 5,
   "metadata": {},
   "outputs": [
    {
     "name": "stdout",
     "output_type": "stream",
     "text": [
      "Approximation test\n"
     ]
    },
    {
     "data": {
      "image/png": "[encoded data removed]",
      "text/plain": [
       "<Figure size 432x288 with 1 Axes>"
      ]
     },
     "metadata": {},
     "output_type": "display_data"
    },
    {
     "data": {
      "image/png": "[encoded data removed]",
      "text/plain": [
       "<Figure size 432x288 with 1 Axes>"
      ]
     },
     "metadata": {},
     "output_type": "display_data"
    }
   ],
   "source": [
    "print(\"Approximation test\")\n",
    "pts = generate(10, 600, 800)\n",
    "graph_debug(pts, \"Before approximation\")\n",
    "ext_pts = local_model_algo(pts) # subset of pts\n",
    "graph_debug(ext_pts, \"After approximation\")"
   ]
  }
 ],
 "metadata": {
  "kernelspec": {
   "display_name": "Python 3",
   "language": "python",
   "name": "python3"
  },
  "language_info": {
   "codemirror_mode": {
    "name": "ipython",
    "version": 3
   },
   "file_extension": ".py",
   "mimetype": "text/x-python",
   "name": "python",
   "nbconvert_exporter": "python",
   "pygments_lexer": "ipython3",
   "version": "3.6.1"
  }
 },
 "nbformat": 4,
 "nbformat_minor": 2
}
